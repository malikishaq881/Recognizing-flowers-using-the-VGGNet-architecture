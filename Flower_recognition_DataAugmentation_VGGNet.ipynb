{
  "cells": [
    {
      "cell_type": "code",
      "execution_count": 1,
      "metadata": {
        "id": "uHRwrE7bTQkZ"
      },
      "outputs": [],
      "source": [
        "import os\n",
        "import cv2\n",
        "import numpy as np\n",
        "import matplotlib.pyplot as plt\n",
        "import tensorflow as tf\n",
        "from sklearn.model_selection import train_test_split\n",
        "from tensorflow.keras.models import Sequential\n",
        "from tensorflow.keras.layers import Dense\n",
        "import time\n",
        "import joblib\n",
        "from tensorflow.keras.models import Sequential\n",
        "from tensorflow.keras.layers import Conv2D, MaxPooling2D, Flatten, Dense, Dropout\n",
        "from tensorflow.keras.preprocessing.image import ImageDataGenerator"
      ]
    },
    {
      "cell_type": "code",
      "source": [
        "from google.colab import drive\n",
        "drive.mount('/content/drive')"
      ],
      "metadata": {
        "colab": {
          "base_uri": "https://localhost:8080/"
        },
        "id": "hZpQaD_p_J38",
        "outputId": "bc48da45-4126-497b-daed-d641e91e1841"
      },
      "execution_count": 2,
      "outputs": [
        {
          "output_type": "stream",
          "name": "stdout",
          "text": [
            "Drive already mounted at /content/drive; to attempt to forcibly remount, call drive.mount(\"/content/drive\", force_remount=True).\n"
          ]
        }
      ]
    },
    {
      "cell_type": "code",
      "execution_count": 3,
      "metadata": {
        "id": "H_mjAcL-TRIi"
      },
      "outputs": [],
      "source": [
        "DATADIR = '/content/drive/MyDrive/flowers'\n",
        "IMG_SIZE = 180\n",
        "CATEGORIES = ['daisy', 'dandelion', 'rose', 'sunflower', 'tulip']"
      ]
    },
    {
      "cell_type": "code",
      "execution_count": 4,
      "metadata": {
        "id": "YmgHrbzLTSYZ"
      },
      "outputs": [],
      "source": [
        "from tqdm import tqdm\n",
        "data = []\n",
        "def create_data():\n",
        "  for category in CATEGORIES:\n",
        "    path = os.path.join(DATADIR, category)\n",
        "    class_num = CATEGORIES.index(category)\n",
        "    for img in tqdm(os.listdir(path)):\n",
        "      try:\n",
        "        img_array = cv2.imread(os.path.join(path, img))\n",
        "        new_array = cv2.resize(img_array, (IMG_SIZE, IMG_SIZE))\n",
        "        data.append([new_array,class_num])\n",
        "      except Exception as e:\n",
        "        pass\n"
      ]
    },
    {
      "cell_type": "code",
      "execution_count": 5,
      "metadata": {
        "colab": {
          "base_uri": "https://localhost:8080/"
        },
        "id": "AYxrQCIiU653",
        "outputId": "607ade89-f3a2-4d42-a5f4-409ab5feb360"
      },
      "outputs": [
        {
          "output_type": "stream",
          "name": "stderr",
          "text": [
            "100%|██████████| 769/769 [00:06<00:00, 118.97it/s]\n",
            "100%|██████████| 1055/1055 [00:07<00:00, 147.18it/s]\n",
            "100%|██████████| 784/784 [00:04<00:00, 161.89it/s]\n",
            "100%|██████████| 734/734 [00:05<00:00, 131.27it/s]\n",
            "100%|██████████| 984/984 [00:06<00:00, 144.97it/s]"
          ]
        },
        {
          "output_type": "stream",
          "name": "stdout",
          "text": [
            "4323\n"
          ]
        },
        {
          "output_type": "stream",
          "name": "stderr",
          "text": [
            "\n"
          ]
        }
      ],
      "source": [
        "create_data()\n",
        "print(len(data))"
      ]
    },
    {
      "cell_type": "code",
      "execution_count": 6,
      "metadata": {
        "colab": {
          "base_uri": "https://localhost:8080/"
        },
        "id": "wmBaM2piVKM8",
        "outputId": "069b1d5f-c6a0-49aa-ebde-a085757677d3"
      },
      "outputs": [
        {
          "output_type": "stream",
          "name": "stderr",
          "text": [
            "100%|██████████| 4323/4323 [00:00<00:00, 1525105.24it/s]\n"
          ]
        }
      ],
      "source": [
        "X = []\n",
        "Y = []\n",
        "\n",
        "for features, labels in tqdm(data):\n",
        "  X.append(features)\n",
        "  Y.append(labels)"
      ]
    },
    {
      "cell_type": "code",
      "source": [
        "# num_classes = Y['labels'].nunique()\n",
        "# print(\"Total number of classes:\", num_classes)"
      ],
      "metadata": {
        "id": "hD5zTPXFwUDc"
      },
      "execution_count": 7,
      "outputs": []
    },
    {
      "cell_type": "code",
      "execution_count": 8,
      "metadata": {
        "colab": {
          "base_uri": "https://localhost:8080/"
        },
        "id": "LGCpkckuXjKl",
        "outputId": "c1fe0575-b1c3-40fc-a5de-aca6282410e6"
      },
      "outputs": [
        {
          "output_type": "execute_result",
          "data": {
            "text/plain": [
              "list"
            ]
          },
          "metadata": {},
          "execution_count": 8
        }
      ],
      "source": [
        "type(X)"
      ]
    },
    {
      "cell_type": "code",
      "execution_count": 9,
      "metadata": {
        "id": "gNSWLfcQawkz"
      },
      "outputs": [],
      "source": [
        "x = np.array(X)\n",
        "y = np.array(Y)"
      ]
    },
    {
      "cell_type": "code",
      "execution_count": 10,
      "metadata": {
        "colab": {
          "base_uri": "https://localhost:8080/"
        },
        "id": "no1SBISUa-OB",
        "outputId": "cd918fed-b77f-4796-952e-dbc80183428b"
      },
      "outputs": [
        {
          "output_type": "execute_result",
          "data": {
            "text/plain": [
              "(4323, 180, 180, 3)"
            ]
          },
          "metadata": {},
          "execution_count": 10
        }
      ],
      "source": [
        "np.shape(X)"
      ]
    },
    {
      "cell_type": "code",
      "execution_count": 11,
      "metadata": {
        "id": "iRX75cV5bSOH"
      },
      "outputs": [],
      "source": [
        "x_train, x_test, y_train, y_test=train_test_split(x, y, test_size=0.3, random_state=10)"
      ]
    },
    {
      "cell_type": "code",
      "source": [
        "x_train.shape"
      ],
      "metadata": {
        "colab": {
          "base_uri": "https://localhost:8080/"
        },
        "id": "QrosjSHIZuH6",
        "outputId": "91b86967-55de-490b-fac0-59d90ab8943d"
      },
      "execution_count": 12,
      "outputs": [
        {
          "output_type": "execute_result",
          "data": {
            "text/plain": [
              "(3026, 180, 180, 3)"
            ]
          },
          "metadata": {},
          "execution_count": 12
        }
      ]
    },
    {
      "cell_type": "markdown",
      "source": [
        "**Applying CNN**"
      ],
      "metadata": {
        "id": "JZoeR6g1_fo4"
      }
    },
    {
      "cell_type": "code",
      "source": [
        "#CNN\n",
        "\n",
        "model = Sequential()\n",
        "model.add(Conv2D(filters=64, kernel_size = (3,3), padding = 'Same', activation='relu', input_shape=(IMG_SIZE, IMG_SIZE, 3)))\n",
        "model.add(Conv2D(filters=64, kernel_size = (3,3), padding = 'Same', activation='relu'))\n",
        "model.add(MaxPooling2D(pool_size=(2,2), strides=(2,2)))\n",
        "\n",
        "model.add(Conv2D(filters=128, kernel_size = (3,3), padding = 'Same', activation='relu'))\n",
        "model.add(Conv2D(filters=128, kernel_size = (3,3), padding = 'Same', activation='relu'))\n",
        "model.add(MaxPooling2D(pool_size=(2,2), strides=(2,2)))\n",
        "\n",
        "model.add(Conv2D(filters=256, kernel_size = (3,3), padding = 'Same', activation='relu'))\n",
        "model.add(Conv2D(filters=256, kernel_size = (3,3), padding = 'Same', activation='relu'))\n",
        "model.add(Conv2D(filters=256, kernel_size = (3,3), padding = 'Same', activation='relu'))\n",
        "model.add(MaxPooling2D(pool_size=(2,2), strides=(2,2)))\n",
        "\n",
        "model.add(Conv2D(filters=512, kernel_size = (3,3), padding = 'Same', activation='relu'))\n",
        "model.add(Conv2D(filters=512, kernel_size = (3,3), padding = 'Same', activation='relu'))\n",
        "model.add(Conv2D(filters=512, kernel_size = (3,3), padding = 'Same', activation='relu'))\n",
        "model.add(MaxPooling2D(pool_size=(2,2), strides=(2,2)))\n",
        "\n",
        "model.add(Conv2D(filters=512, kernel_size = (3,3), padding = 'Same', activation='relu'))\n",
        "model.add(Conv2D(filters=512, kernel_size = (3,3), padding = 'Same', activation='relu'))\n",
        "model.add(Conv2D(filters=512, kernel_size = (3,3), padding = 'Same', activation='relu'))\n",
        "model.add(MaxPooling2D(pool_size=(2,2), strides=(2,2)))\n",
        "\n",
        "model.add(Flatten())\n",
        "\n",
        "#ANN\n",
        "\n",
        "model.add(Dense(4096, activation='relu'))\n",
        "model.add(Dense(4096, activation='relu'))\n",
        "model.add(Dense(5, activation='softmax'))\n",
        "\n"
      ],
      "metadata": {
        "id": "htvQxU-O_iel"
      },
      "execution_count": 13,
      "outputs": []
    },
    {
      "cell_type": "code",
      "source": [
        "model.compile(optimizer=tf.keras.optimizers.SGD(learning_rate=0.001), loss='sparse_categorical_crossentropy', metrics=['accuracy'])"
      ],
      "metadata": {
        "id": "WCWPOgddDZpI"
      },
      "execution_count": 14,
      "outputs": []
    },
    {
      "cell_type": "code",
      "execution_count": 15,
      "metadata": {
        "id": "5IzfY0t6pL4F"
      },
      "outputs": [],
      "source": [
        "# S=time.time()\n",
        "# model.fit(x_train, y_train, epochs=10, batch_size=32, validation_data=(x_test, y_test))\n",
        "# E=time.time()"
      ]
    },
    {
      "cell_type": "code",
      "execution_count": 16,
      "metadata": {
        "id": "r-ZVrD2IpN7u"
      },
      "outputs": [],
      "source": [
        "# test_loss, test_acc = model.evaluate(x_test, y_test)\n",
        "# #joblib.dump(cnnmodel, 'cnn_model.joblib')\n",
        "# print(f\"Test accuracy: {test_acc}\")"
      ]
    },
    {
      "cell_type": "code",
      "source": [
        "# model.summary()"
      ],
      "metadata": {
        "id": "R-rEl7XLSg5q"
      },
      "execution_count": 17,
      "outputs": []
    },
    {
      "cell_type": "code",
      "source": [],
      "metadata": {
        "id": "60XTV2btx4jA"
      },
      "execution_count": 17,
      "outputs": []
    },
    {
      "cell_type": "markdown",
      "source": [
        "|       Models       | Train Acc | Test Acc |\n",
        "|:------------------:|:---------:|:--------:|\n",
        "|         ANN        |   43.23   |   30.45  |\n",
        "| ANN  (PCA(n=1000)) |   99.04   |   47.26  |\n",
        "|  ANN  (PCA(n=300)) |   86.32   |   41.25  |\n",
        "|         CNN        |   80.60   |   69.08  |"
      ],
      "metadata": {
        "id": "cIzZYeSOLeD6"
      }
    },
    {
      "cell_type": "code",
      "source": [
        "datagen=ImageDataGenerator(\n",
        "    featurewise_center=True,\n",
        "    featurewise_std_normalization=True,\n",
        "    rotation_range=20,\n",
        "    width_shift_range=0.2,\n",
        "    height_shift_range=0.2,\n",
        "    horizontal_flip=True,\n",
        "    validation_split=0.2,\n",
        "\n",
        ")\n"
      ],
      "metadata": {
        "id": "82Q6R1qjLehb"
      },
      "execution_count": 18,
      "outputs": []
    },
    {
      "cell_type": "code",
      "source": [
        "History = model.fit(\n",
        "    datagen.flow(x_train, y_train, batch_size=128),\n",
        "    epochs = 20, validation_data = (x_test, y_test),\n",
        "    steps_per_epoch = x_train.shape[0]//128\n",
        "\n",
        ")"
      ],
      "metadata": {
        "colab": {
          "base_uri": "https://localhost:8080/"
        },
        "id": "Qhvt1QxaYBsQ",
        "outputId": "45036a92-6f50-46f4-c58d-1651fef8d1a0"
      },
      "execution_count": 19,
      "outputs": [
        {
          "output_type": "stream",
          "name": "stderr",
          "text": [
            "/usr/local/lib/python3.10/dist-packages/keras/preprocessing/image.py:1861: UserWarning: This ImageDataGenerator specifies `featurewise_center`, but it hasn't been fit on any training data. Fit it first by calling `.fit(numpy_data)`.\n",
            "  warnings.warn(\n",
            "/usr/local/lib/python3.10/dist-packages/keras/preprocessing/image.py:1871: UserWarning: This ImageDataGenerator specifies `featurewise_std_normalization`, but it hasn't been fit on any training data. Fit it first by calling `.fit(numpy_data)`.\n",
            "  warnings.warn(\n"
          ]
        },
        {
          "output_type": "stream",
          "name": "stdout",
          "text": [
            "Epoch 1/20\n",
            "23/23 [==============================] - 102s 3s/step - loss: 1.5856 - accuracy: 0.2943 - val_loss: 1.5517 - val_accuracy: 0.3531\n",
            "Epoch 2/20\n",
            "23/23 [==============================] - 39s 2s/step - loss: 1.5454 - accuracy: 0.3499 - val_loss: 1.5091 - val_accuracy: 0.3832\n",
            "Epoch 3/20\n",
            "23/23 [==============================] - 37s 2s/step - loss: 1.4877 - accuracy: 0.3730 - val_loss: 1.4524 - val_accuracy: 0.3616\n",
            "Epoch 4/20\n",
            "23/23 [==============================] - 36s 2s/step - loss: 1.4384 - accuracy: 0.3892 - val_loss: 1.3673 - val_accuracy: 0.4171\n",
            "Epoch 5/20\n",
            "23/23 [==============================] - 37s 2s/step - loss: 1.4295 - accuracy: 0.3651 - val_loss: 1.3501 - val_accuracy: 0.4402\n",
            "Epoch 6/20\n",
            "23/23 [==============================] - 38s 2s/step - loss: 1.3851 - accuracy: 0.3954 - val_loss: 1.2737 - val_accuracy: 0.4873\n",
            "Epoch 7/20\n",
            "23/23 [==============================] - 38s 2s/step - loss: 1.3818 - accuracy: 0.4027 - val_loss: 1.3070 - val_accuracy: 0.4248\n",
            "Epoch 8/20\n",
            "23/23 [==============================] - 36s 2s/step - loss: 1.3250 - accuracy: 0.4303 - val_loss: 1.2331 - val_accuracy: 0.4865\n",
            "Epoch 9/20\n",
            "23/23 [==============================] - 36s 2s/step - loss: 1.3141 - accuracy: 0.4634 - val_loss: 1.3142 - val_accuracy: 0.4572\n",
            "Epoch 10/20\n",
            "23/23 [==============================] - 37s 2s/step - loss: 1.2436 - accuracy: 0.4934 - val_loss: 1.2391 - val_accuracy: 0.4988\n",
            "Epoch 11/20\n",
            "23/23 [==============================] - 37s 2s/step - loss: 1.2725 - accuracy: 0.4727 - val_loss: 1.1762 - val_accuracy: 0.5243\n",
            "Epoch 12/20\n",
            "23/23 [==============================] - 37s 2s/step - loss: 1.2346 - accuracy: 0.4914 - val_loss: 1.2024 - val_accuracy: 0.5058\n",
            "Epoch 13/20\n",
            "23/23 [==============================] - 39s 2s/step - loss: 1.2080 - accuracy: 0.4965 - val_loss: 1.1322 - val_accuracy: 0.5389\n",
            "Epoch 14/20\n",
            "23/23 [==============================] - 36s 2s/step - loss: 1.1706 - accuracy: 0.5314 - val_loss: 1.1219 - val_accuracy: 0.5783\n",
            "Epoch 15/20\n",
            "23/23 [==============================] - 36s 2s/step - loss: 1.1871 - accuracy: 0.5152 - val_loss: 1.1154 - val_accuracy: 0.5474\n",
            "Epoch 16/20\n",
            "23/23 [==============================] - 37s 2s/step - loss: 1.1323 - accuracy: 0.5452 - val_loss: 1.0843 - val_accuracy: 0.5821\n",
            "Epoch 17/20\n",
            "23/23 [==============================] - 36s 2s/step - loss: 1.1546 - accuracy: 0.5262 - val_loss: 1.1757 - val_accuracy: 0.5328\n",
            "Epoch 18/20\n",
            "23/23 [==============================] - 35s 2s/step - loss: 1.1398 - accuracy: 0.5424 - val_loss: 1.1443 - val_accuracy: 0.5528\n",
            "Epoch 19/20\n",
            "23/23 [==============================] - 36s 2s/step - loss: 1.1334 - accuracy: 0.5390 - val_loss: 1.1461 - val_accuracy: 0.5420\n",
            "Epoch 20/20\n",
            "23/23 [==============================] - 36s 2s/step - loss: 1.1010 - accuracy: 0.5721 - val_loss: 1.0681 - val_accuracy: 0.5867\n"
          ]
        }
      ]
    },
    {
      "cell_type": "code",
      "source": [
        "x_train.shape"
      ],
      "metadata": {
        "colab": {
          "base_uri": "https://localhost:8080/"
        },
        "id": "KsCkg891n-9H",
        "outputId": "62e68053-7f72-43a4-f79b-944a6a3d7651"
      },
      "execution_count": 20,
      "outputs": [
        {
          "output_type": "execute_result",
          "data": {
            "text/plain": [
              "(3026, 180, 180, 3)"
            ]
          },
          "metadata": {},
          "execution_count": 20
        }
      ]
    },
    {
      "cell_type": "code",
      "source": [],
      "metadata": {
        "id": "tp2qO7FhDJGG"
      },
      "execution_count": 20,
      "outputs": []
    }
  ],
  "metadata": {
    "colab": {
      "provenance": [],
      "gpuType": "T4"
    },
    "kernelspec": {
      "display_name": "Python 3",
      "name": "python3"
    },
    "language_info": {
      "name": "python"
    },
    "accelerator": "GPU"
  },
  "nbformat": 4,
  "nbformat_minor": 0
}